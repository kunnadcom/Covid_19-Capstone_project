{
 "cells": [
  {
   "cell_type": "code",
   "execution_count": null,
   "id": "01966019-c43c-4b3d-a372-2dd23b7fde1f",
   "metadata": {},
   "outputs": [],
   "source": [
    "# Importing necessary libraries\n",
    "import pandas as pd\n",
    "import numpy as np\n",
    "import matplotlib.pyplot as plt\n",
    "import seaborn as sns\n",
    "from sklearn.model_selection import train_test_split\n",
    "from sklearn.ensemble import RandomForestRegressor\n",
    "from sklearn.metrics import mean_squared_error, r2_score\n",
    "\n",
    "# Loading the datasets\n",
    "usa_county_data = pd.read_csv(r\"C:\\Users\\Welcome Sir\\Downloads\\archive\\usa_county_wise.csv\")\n",
    "worldometer_data = pd.read_csv(r\"C:\\Users\\Welcome Sir\\Downloads\\archive\\worldometer_data.csv\")\n",
    "country_wise_data = pd.read_csv(r\"C:\\Users\\Welcome Sir\\Downloads\\archive\\country_wise_latest.csv\")\n",
    "covid_clean_complete_data = pd.read_csv(r\"C:\\Users\\Welcome Sir\\Downloads\\archive\\covid_19_clean_complete.csv\")\n",
    "day_wise_data = pd.read_csv(r\"C:\\Users\\Welcome Sir\\Downloads\\archive\\day_wise.csv\")\n",
    "full_grouped_data = pd.read_csv(r\"C:\\Users\\Welcome Sir\\Downloads\\archive\\full_grouped.csv\")\n",
    "\n",
    "# Displaying the first few rows of each dataset\n",
    "print(\"USA County Data:\\n\", usa_county_data.head())\n",
    "print(\"Worldometer Data:\\n\", worldometer_data.head())\n",
    "print(\"Country-Wise Data:\\n\", country_wise_data.head())\n",
    "print(\"COVID Clean Complete Data:\\n\", covid_clean_complete_data.head())\n",
    "print(\"Day-Wise Data:\\n\", day_wise_data.head())\n",
    "print(\"Full Grouped Data:\\n\", full_grouped_data.head())\n",
    "\n",
    "# Data Cleaning\n",
    "# Checking for missing values\n",
    "print(\"Missing values in datasets:\")\n",
    "print(covid_clean_complete_data.isnull().sum())\n",
    "\n",
    "# Fill or drop missing values (example: dropping rows with missing values in 'Province/State')\n",
    "covid_clean_complete_data = covid_clean_complete_data.dropna(subset=['Province/State'])\n",
    "\n",
    "# Feature Engineering\n",
    "# Creating a new column for Growth Rate\n",
    "covid_clean_complete_data['Growth_Rate'] = (\n",
    "    covid_clean_complete_data['Confirmed'] - covid_clean_complete_data['Deaths'] - covid_clean_complete_data['Recovered']\n",
    ")\n",
    "\n",
    "# Adding a mortality rate column\n",
    "covid_clean_complete_data['Mortality Rate'] = (\n",
    "    covid_clean_complete_data['Deaths'] / covid_clean_complete_data['Confirmed']\n",
    ") * 100\n",
    "\n",
    "# Adding a recovery rate column\n",
    "covid_clean_complete_data['Recovery Rate'] = (\n",
    "    covid_clean_complete_data['Recovered'] / covid_clean_complete_data['Confirmed']\n",
    ") * 100\n",
    "\n",
    "# EDA: Analyzing global trends\n",
    "plt.figure(figsize=(10, 6))\n",
    "sns.lineplot(data=day_wise_data, x='Date', y='Confirmed', label='Confirmed Cases')\n",
    "sns.lineplot(data=day_wise_data, x='Date', y='Deaths', label='Deaths')\n",
    "sns.lineplot(data=day_wise_data, x='Date', y='Recovered', label='Recovered')\n",
    "plt.title(\"Global COVID-19 Trends Over Time\")\n",
    "plt.xlabel(\"Date\")\n",
    "plt.ylabel(\"Number of Cases\")\n",
    "plt.legend()\n",
    "plt.xticks(rotation=45)\n",
    "plt.tight_layout()\n",
    "plt.show()\n",
    "\n",
    "# EDA: Distribution of Mortality Rate\n",
    "plt.figure(figsize=(8, 6))\n",
    "sns.histplot(covid_clean_complete_data['Mortality Rate'], bins=30, kde=True, color='red')\n",
    "plt.title(\"Distribution of Mortality Rate\")\n",
    "plt.xlabel(\"Mortality Rate (%)\")\n",
    "plt.ylabel(\"Frequency\")\n",
    "plt.show()"
   ]
  },
  {
   "cell_type": "code",
   "execution_count": null,
   "id": "0ecb9ca8-c4ad-4723-9769-dd8bf913a2cd",
   "metadata": {},
   "outputs": [],
   "source": [
    "# Data Preparation for Modeling\n",
    "# Selecting features and target variable\n",
    "features = ['Confirmed', 'Deaths', 'Recovered', 'Active']\n",
    "target = 'Mortality Rate'"
   ]
  },
  {
   "cell_type": "code",
   "execution_count": null,
   "id": "1e0bfad7-f86a-41fc-8457-e399de9a81ae",
   "metadata": {},
   "outputs": [],
   "source": [
    "# Splitting into training and test sets\n",
    "X = covid_clean_complete_data[features].fillna(0)  # Fill missing values\n",
    "y = covid_clean_complete_data[target].fillna(0)\n",
    "X_train, X_test, y_train, y_test = train_test_split(X, y, test_size=0.2, random_state=42)"
   ]
  },
  {
   "cell_type": "code",
   "execution_count": null,
   "id": "7d179e1f-52a6-4933-b1ab-1ec219951bff",
   "metadata": {},
   "outputs": [],
   "source": [
    "# Model Development: Random Forest for Mortality Rate Prediction\n",
    "model = RandomForestRegressor(random_state=42)\n",
    "model.fit(X_train, y_train)"
   ]
  },
  {
   "cell_type": "code",
   "execution_count": null,
   "id": "ce671e6d-c59f-417d-86bd-b948742be797",
   "metadata": {},
   "outputs": [],
   "source": [
    "# Predictions\n",
    "y_pred = model.predict(X_test)"
   ]
  },
  {
   "cell_type": "code",
   "execution_count": null,
   "id": "fc52afaa-311f-4a10-a7d4-71b1669e189d",
   "metadata": {},
   "outputs": [],
   "source": [
    "# Model Evaluation\n",
    "rmse = np.sqrt(mean_squared_error(y_test, y_pred))\n",
    "r2 = r2_score(y_test, y_pred)\n",
    "print(f\"RMSE: {rmse}\")\n",
    "print(f\"R²: {r2}\")"
   ]
  },
  {
   "cell_type": "code",
   "execution_count": null,
   "id": "195d14f3-169a-486c-b5dc-f10de9edae85",
   "metadata": {},
   "outputs": [],
   "source": [
    "# Visualization of Predictions vs Actual\n",
    "plt.figure(figsize=(8, 6))\n",
    "sns.scatterplot(x=y_test, y=y_pred, alpha=0.6, color='blue')\n",
    "plt.plot([y_test.min(), y_test.max()], [y_test.min(), y_test.max()], 'r--', linewidth=2)\n",
    "plt.title(\"Actual vs Predicted Mortality Rate\")\n",
    "plt.xlabel(\"Actual Mortality Rate\")\n",
    "plt.ylabel(\"Predicted Mortality Rate\")\n",
    "plt.tight_layout()\n",
    "plt.show()"
   ]
  },
  {
   "cell_type": "code",
   "execution_count": null,
   "id": "4d8c0d78-66c6-4b16-9b41-f543458854b6",
   "metadata": {},
   "outputs": [],
   "source": [
    "from sklearn.model_selection import train_test_split\n",
    "from sklearn.ensemble import RandomForestClassifier\n",
    "from sklearn.metrics import classification_report, accuracy_score"
   ]
  },
  {
   "cell_type": "code",
   "execution_count": null,
   "id": "71577342-7107-4465-9fc9-63451f021aaa",
   "metadata": {},
   "outputs": [],
   "source": [
    "# Load the dataset\n",
    "covid_clean_complete_data = pd.read_csv(r\"C:\\Users\\Welcome Sir\\Downloads\\archive\\covid_19_clean_complete.csv\")"
   ]
  },
  {
   "cell_type": "code",
   "execution_count": null,
   "id": "c786d784-c346-4689-a9b9-f3a416099e00",
   "metadata": {},
   "outputs": [],
   "source": [
    "# Data Cleaning and Feature Engineering\n",
    "covid_clean_complete_data['Confirmed'] = covid_clean_complete_data['Confirmed'].fillna(0)\n",
    "covid_clean_complete_data['Deaths'] = covid_clean_complete_data['Deaths'].fillna(0)\n",
    "covid_clean_complete_data['Recovered'] = covid_clean_complete_data['Recovered'].fillna(0)\n",
    "covid_clean_complete_data['Active'] = (\n",
    "    covid_clean_complete_data['Confirmed'] - covid_clean_complete_data['Deaths'] - covid_clean_complete_data['Recovered']\n",
    ")\n",
    "covid_clean_complete_data['Mortality Rate'] = (\n",
    "    covid_clean_complete_data['Deaths'] / covid_clean_complete_data['Confirmed']\n",
    ") * 100"
   ]
  },
  {
   "cell_type": "code",
   "execution_count": null,
   "id": "be7934a8-58dc-451b-81a1-cfed1d8d57de",
   "metadata": {},
   "outputs": [],
   "source": [
    "# Define binary classification target (High Mortality)\n",
    "threshold = 2  # Set threshold for high mortality rate\n",
    "covid_clean_complete_data['High Mortality'] = (\n",
    "    covid_clean_complete_data['Mortality Rate'] > threshold\n",
    ").astype(int)"
   ]
  },
  {
   "cell_type": "code",
   "execution_count": null,
   "id": "302a1006-dea9-4eee-8e13-c2dca508bf37",
   "metadata": {},
   "outputs": [],
   "source": [
    "# Select features and target\n",
    "features = ['Confirmed', 'Deaths', 'Recovered', 'Active']\n",
    "X = covid_clean_complete_data[features].fillna(0)\n",
    "y = covid_clean_complete_data['High Mortality']"
   ]
  },
  {
   "cell_type": "code",
   "execution_count": null,
   "id": "fd34ca69-ddda-4560-9ee6-6f2358825738",
   "metadata": {},
   "outputs": [],
   "source": [
    "# Split the dataset\n",
    "X_train, X_test, y_train, y_test = train_test_split(X, y, test_size=0.2, random_state=42)"
   ]
  },
  {
   "cell_type": "code",
   "execution_count": null,
   "id": "96e96556-c37d-40a7-89d9-25b87bd49557",
   "metadata": {},
   "outputs": [],
   "source": [
    "# Build and train the classification model\n",
    "clf = RandomForestClassifier(random_state=42)\n",
    "clf.fit(X_train, y_train)"
   ]
  },
  {
   "cell_type": "code",
   "execution_count": null,
   "id": "270f575c-c861-4647-a3ea-b64748a76d04",
   "metadata": {},
   "outputs": [],
   "source": [
    "# Make predictions\n",
    "y_pred = clf.predict(X_test)"
   ]
  },
  {
   "cell_type": "code",
   "execution_count": null,
   "id": "0ec6c74a-9a6e-44ba-805d-689208e73277",
   "metadata": {},
   "outputs": [],
   "source": [
    "# Generate the classification report\n",
    "print(\"Classification Report:\")\n",
    "print(classification_report(y_test, y_pred))"
   ]
  },
  {
   "cell_type": "code",
   "execution_count": null,
   "id": "d0cc0239-76ef-459f-9d08-b12ebcf6b411",
   "metadata": {},
   "outputs": [],
   "source": [
    "# Accuracy score\n",
    "accuracy = accuracy_score(y_test, y_pred)\n",
    "print(f\"Accuracy Score: {accuracy:.2f}\")"
   ]
  },
  {
   "cell_type": "code",
   "execution_count": null,
   "id": "acb79cff-40b1-4174-9cbd-01f0d0a89fb4",
   "metadata": {},
   "outputs": [],
   "source": [
    "# Convert 'Date' column to datetime if not already\n",
    "day_wise_data['Date'] = pd.to_datetime(day_wise_data['Date'])"
   ]
  },
  {
   "cell_type": "code",
   "execution_count": null,
   "id": "a8be5b79-be7a-4eb7-8116-8b6c920e88c0",
   "metadata": {},
   "outputs": [],
   "source": [
    "# Filter data for confirmed cases over time\n",
    "confirmed_data = day_wise_data[['Date', 'Confirmed']].set_index('Date')"
   ]
  },
  {
   "cell_type": "code",
   "execution_count": null,
   "id": "59745646-9063-4090-a491-f786d0a7ca6a",
   "metadata": {},
   "outputs": [],
   "source": [
    "# Handle missing data (interpolation method can be used here if necessary)\n",
    "confirmed_data = confirmed_data.ffill()  # Use forward fill"
   ]
  },
  {
   "cell_type": "code",
   "execution_count": null,
   "id": "e0a75cf3-c2c6-4995-bef6-3099cb3f8128",
   "metadata": {},
   "outputs": [],
   "source": [
    "# Set the frequency explicitly to daily\n",
    "confirmed_data = confirmed_data.asfreq('D')"
   ]
  },
  {
   "cell_type": "code",
   "execution_count": null,
   "id": "a6a07cdf-305b-4780-963e-b2db6159c330",
   "metadata": {},
   "outputs": [],
   "source": [
    "# Split into training and test data (e.g., using the last 30 days for testing)\n",
    "train = confirmed_data[:-30]\n",
    "test = confirmed_data[-30:]"
   ]
  },
  {
   "cell_type": "code",
   "execution_count": null,
   "id": "7f92e319-3baf-4efc-8cf9-59d191751925",
   "metadata": {},
   "outputs": [],
   "source": [
    "# Fit ARIMA model\n",
    "from statsmodels.tsa.arima.model import ARIMA\n",
    "from sklearn.metrics import mean_squared_error\n",
    "import math\n",
    "arima_model = ARIMA(train, order=(5, 1, 0))  # You can tune the order (p, d, q) based on ACF/PACF analysis\n",
    "arima_model_fit = arima_model.fit()"
   ]
  },
  {
   "cell_type": "code",
   "execution_count": null,
   "id": "5e76e5a0-4caa-4ca2-bdbc-e777fb860bf3",
   "metadata": {},
   "outputs": [],
   "source": [
    "# Predict future cases\n",
    "forecast = arima_model_fit.forecast(steps=30)"
   ]
  },
  {
   "cell_type": "code",
   "execution_count": null,
   "id": "bb7eb9ed-7f7c-4dbc-9c3f-f5fc231b7e4d",
   "metadata": {},
   "outputs": [],
   "source": [
    "# Visualize the forecast\n",
    "plt.figure(figsize=(10, 6))\n",
    "plt.plot(train, label=\"Training Data\")\n",
    "plt.plot(test, label=\"Test Data\")\n",
    "plt.plot(pd.date_range(start=test.index[0], periods=30, freq='D'), forecast, label=\"Forecast\", color='red')\n",
    "plt.title(\"ARIMA Forecast for COVID-19 Cases\")\n",
    "plt.xlabel(\"Date\")\n",
    "plt.ylabel(\"Confirmed Cases\")\n",
    "plt.legend()\n",
    "plt.show()"
   ]
  },
  {
   "cell_type": "code",
   "execution_count": null,
   "id": "20d9e855-61d0-415c-9a4d-24865a2dab3b",
   "metadata": {},
   "outputs": [],
   "source": []
  },
  {
   "cell_type": "code",
   "execution_count": null,
   "id": "a9e4570b-7d52-4f0d-8407-12b2ffa8e434",
   "metadata": {},
   "outputs": [],
   "source": [
    "from statsmodels.graphics.tsaplots import plot_acf, plot_pacf\n",
    "\n",
    "# Plot ACF and PACF for determining p and q\n",
    "plt.figure(figsize=(12, 6))\n",
    "plt.subplot(121)\n",
    "plot_acf(confirmed_data['Confirmed'], ax=plt.gca())\n",
    "plt.subplot(122)\n",
    "plot_pacf(confirmed_data['Confirmed'], ax=plt.gca())\n",
    "plt.show()"
   ]
  },
  {
   "cell_type": "code",
   "execution_count": null,
   "id": "8fd83ef5-5c16-4979-818b-6e9b79accbbd",
   "metadata": {},
   "outputs": [],
   "source": []
  },
  {
   "cell_type": "code",
   "execution_count": null,
   "id": "19aaf949-ddb7-4ede-a5e0-af32d9189386",
   "metadata": {},
   "outputs": [],
   "source": []
  },
  {
   "cell_type": "code",
   "execution_count": null,
   "id": "fff67103-738a-4638-9080-c5924a17735a",
   "metadata": {},
   "outputs": [],
   "source": [
    "# Analyze the impact of Active Cases on Mortality Rate\n",
    "plt.figure(figsize=(10, 6))\n",
    "sns.scatterplot(data=covid_clean_complete_data, x='Active', y='Mortality Rate', alpha=0.6)\n",
    "plt.title(\"Impact of Active Cases on Mortality Rate\")\n",
    "plt.xlabel(\"Active Cases\")\n",
    "plt.ylabel(\"Mortality Rate (%)\")\n",
    "plt.tight_layout()\n",
    "plt.show()"
   ]
  },
  {
   "cell_type": "code",
   "execution_count": null,
   "id": "9e62d7f5-189a-4427-bd6d-532606e28db2",
   "metadata": {},
   "outputs": [],
   "source": [
    "# Load datasets\n",
    "worldometer_data = pd.read_csv(r\"C:\\Users\\Welcome Sir\\Downloads\\archive\\worldometer_data.csv\")\n",
    "country_wise_data = pd.read_csv(r\"C:\\Users\\Welcome Sir\\Downloads\\archive\\country_wise_latest.csv\")"
   ]
  },
  {
   "cell_type": "code",
   "execution_count": null,
   "id": "9119b803-8c3c-4294-a3ad-3ce90aaae38e",
   "metadata": {},
   "outputs": [],
   "source": [
    "# Upward Trends Analysis\n",
    "# Calculate growth rate: New Cases / Total Cases\n",
    "country_wise_data['Growth_Rate'] = (\n",
    "    country_wise_data['New cases'] / (country_wise_data['Confirmed'] + 1)\n",
    ")\n",
    "\n",
    "# Select top 10 countries with highest growth rates\n",
    "upward_trends = country_wise_data[['Country/Region', 'Growth_Rate']].sort_values(\n",
    "    by='Growth_Rate', ascending=False\n",
    ").head(10)\n",
    "\n",
    "print(\"Top 10 Countries with Upward Trends:\\n\", upward_trends)"
   ]
  },
  {
   "cell_type": "code",
   "execution_count": null,
   "id": "d4d61cc7-8379-4eaf-8dec-7bf8558a2901",
   "metadata": {},
   "outputs": [],
   "source": [
    "# Plot upward trends\n",
    "plt.figure(figsize=(10, 6))\n",
    "sns.barplot(data=upward_trends, x='Growth_Rate', y='Country/Region', palette='viridis')\n",
    "plt.title(\"Top 10 Countries with Upward Trends\")\n",
    "plt.xlabel(\"Growth Rate\")\n",
    "plt.ylabel(\"Country\")\n",
    "plt.tight_layout()\n",
    "plt.show()"
   ]
  },
  {
   "cell_type": "code",
   "execution_count": null,
   "id": "f2bd61d0-75d9-494a-ab11-90aa5b82b917",
   "metadata": {},
   "outputs": [],
   "source": [
    "# Top 10 Countries by Mortality Rate\n",
    "country_wise_data['Mortality_Rate'] = (\n",
    "    country_wise_data['Deaths'] / (country_wise_data['Confirmed'] + 1) * 100\n",
    ")\n",
    "\n",
    "top_mortality = country_wise_data[['Country/Region', 'Mortality_Rate']].sort_values(\n",
    "    by='Mortality_Rate', ascending=False\n",
    ").head(10)\n",
    "\n",
    "print(\"Top 10 Countries by Mortality Rate:\\n\", top_mortality)\n"
   ]
  },
  {
   "cell_type": "code",
   "execution_count": null,
   "id": "33841172-43c1-442d-b31d-4ad1f5ebd636",
   "metadata": {},
   "outputs": [],
   "source": [
    "# Plot mortality rates\n",
    "plt.figure(figsize=(10, 6))\n",
    "sns.barplot(data=top_mortality, x='Mortality_Rate', y='Country/Region', palette='Reds')\n",
    "plt.title(\"Top 10 Countries by Mortality Rate\")\n",
    "plt.xlabel(\"Mortality Rate (%)\")\n",
    "plt.ylabel(\"Country\")\n",
    "plt.tight_layout()\n",
    "plt.show()"
   ]
  },
  {
   "cell_type": "code",
   "execution_count": null,
   "id": "9e0f1807-cbae-46cf-a35b-720c9da42840",
   "metadata": {},
   "outputs": [],
   "source": [
    "# Dense Population Analysis\n",
    "# Use the correct column name for population density\n",
    "dense_population = worldometer_data[['Country/Region', 'Population', 'Tot Cases/1M pop', 'Deaths/1M pop']]\n",
    "\n",
    "# Sort by population in descending order and select the top 10\n",
    "dense_population = dense_population.sort_values(by='Population', ascending=False).head(10)\n",
    "\n",
    "print(\"Top 10 Densely Populated Countries:\\n\", dense_population)\n",
    "\n",
    "# Plot population vs total cases\n",
    "plt.figure(figsize=(10, 6))\n",
    "sns.scatterplot(data=dense_population, x='Population', y='Tot Cases/1M pop', size='Deaths/1M pop', hue='Country/Region', sizes=(50, 300))\n",
    "plt.title(\"Densely Populated Countries and COVID-19 Cases\")\n",
    "plt.xlabel(\"Population\")\n",
    "plt.ylabel(\"Tot Cases/1M pop\")\n",
    "plt.legend(bbox_to_anchor=(1.05, 1), loc='upper left')\n",
    "plt.tight_layout()\n",
    "plt.show()"
   ]
  },
  {
   "cell_type": "code",
   "execution_count": null,
   "id": "2c68e144-aa17-4ab0-8d3b-894153b75d9c",
   "metadata": {},
   "outputs": [],
   "source": [
    "# Save the model and outputs\n",
    "import joblib\n",
    "joblib.dump(model, 'covid_mortality_model.pkl')"
   ]
  },
  {
   "cell_type": "code",
   "execution_count": null,
   "id": "0bde5566-1709-44ea-9f88-526b3ed48140",
   "metadata": {},
   "outputs": [],
   "source": [
    "# Final Report Outline\n",
    "report = \"\"\"\n",
    "COVID-19 Predictive Modelling\n",
    "=============================\n",
    "- RMSE: {:.2f}\n",
    "- R²: {:.2f}\n",
    "- Key Insights: \n",
    "    1 ARIMA model predicts an upward trend in cases in specific countries.\n",
    "    2 Top 10 countries with the highest mortality rates include...\n",
    "    3 Mortality rates are significantly influenced by population density and healthcare availability.\n",
    "Recommendations:\n",
    "    - Focus on reducing active cases through early interventions.\n",
    "    - Allocate healthcare resources to regions with high mortality rates.\n",
    "    - Use predictive analytics to anticipate future outbreaks and allocate resources effectively.\n",
    "\"\"\".format(rmse, r2)\n",
    "\n",
    "with open(\"final_report.txt\", \"w\") as f:\n",
    "    f.write(report)"
   ]
  },
  {
   "cell_type": "code",
   "execution_count": null,
   "id": "2b837136-e805-4c52-a8b4-bd38a432e0e5",
   "metadata": {},
   "outputs": [],
   "source": [
    "# Adding more insights to the report\n",
    "additional_insights = \"\"\"\n",
    "Additional Insights:\n",
    "- ARIMA model predicts an upward trend in cases in specific countries.\n",
    "- Top 10 countries with the highest mortality rates include...\n",
    "- Mortality rates are significantly influenced by population density and healthcare availability.\n",
    "\n",
    "Geographic Findings:\n",
    "- Regions with dense populations showed higher case numbers but mixed recovery rates.\n",
    "- Developed countries tended to have lower mortality rates despite higher confirmed cases.\n",
    "\n",
    "\"\"\"\n",
    "report += additional_insights\n",
    "\n",
    "with open(report_path, \"w\") as file:\n",
    "    file.write(report)"
   ]
  },
  {
   "cell_type": "code",
   "execution_count": null,
   "id": "d6bc78ed-4284-4180-b5df-fc081bb7ae1a",
   "metadata": {},
   "outputs": [],
   "source": [
    "# Save the report to a file\n",
    "report_path = \"final_report.txt\"\n",
    "with open(report_path, \"w\") as file:\n",
    "    file.write(report)\n",
    "\n",
    "print(f\"Report saved successfully at: {report_path}\")"
   ]
  },
  {
   "cell_type": "code",
   "execution_count": null,
   "id": "6028c78f-3e0e-4199-84bc-f7a18540fbd7",
   "metadata": {},
   "outputs": [],
   "source": [
    "print(worldometer_data.columns)"
   ]
  },
  {
   "cell_type": "code",
   "execution_count": null,
   "id": "5872f95b-dcea-49c7-866a-0bd7c96e80b4",
   "metadata": {},
   "outputs": [],
   "source": []
  },
  {
   "cell_type": "code",
   "execution_count": null,
   "id": "6d3653b4-a627-4dd3-80f9-f975df073aca",
   "metadata": {},
   "outputs": [],
   "source": []
  },
  {
   "cell_type": "code",
   "execution_count": 79,
   "id": "d5b511f5-5323-4869-89a6-779dc8d8de21",
   "metadata": {},
   "outputs": [
    {
     "name": "stderr",
     "output_type": "stream",
     "text": [
      "C:\\Users\\Welcome Sir\\AppData\\Local\\Temp\\ipykernel_4440\\3436488711.py:81: FutureWarning: \n",
      "\n",
      "Passing `palette` without assigning `hue` is deprecated and will be removed in v0.14.0. Assign the `y` variable to `hue` and set `legend=False` for the same effect.\n",
      "\n",
      "  sns.barplot(data=upward_trends, x='Growth_Rate', y='Country/Region', palette='viridis')\n",
      "C:\\Users\\Welcome Sir\\AppData\\Local\\Temp\\ipykernel_4440\\3436488711.py:91: FutureWarning: \n",
      "\n",
      "Passing `palette` without assigning `hue` is deprecated and will be removed in v0.14.0. Assign the `y` variable to `hue` and set `legend=False` for the same effect.\n",
      "\n",
      "  sns.barplot(data=top_mortality, x='Mortality_Rate', y='Country/Region', palette='Reds')\n"
     ]
    },
    {
     "name": "stdout",
     "output_type": "stream",
     "text": [
      "All visuals saved as PNG files in the 'visualizations' directory.\n"
     ]
    }
   ],
   "source": [
    "import os\n",
    "import matplotlib.pyplot as plt\n",
    "import seaborn as sns\n",
    "\n",
    "# Directory to save the images\n",
    "output_dir = \"visualizations\"\n",
    "os.makedirs(output_dir, exist_ok=True)\n",
    "\n",
    "# Define a function to save all visuals\n",
    "def save_all_visuals():\n",
    "    # Plot 1: Global COVID-19 Trends Over Time\n",
    "    plt.figure(figsize=(10, 6))\n",
    "    sns.lineplot(data=day_wise_data, x='Date', y='Confirmed', label='Confirmed Cases')\n",
    "    sns.lineplot(data=day_wise_data, x='Date', y='Deaths', label='Deaths')\n",
    "    sns.lineplot(data=day_wise_data, x='Date', y='Recovered', label='Recovered')\n",
    "    plt.title(\"Global COVID-19 Trends Over Time\")\n",
    "    plt.xlabel(\"Date\")\n",
    "    plt.ylabel(\"Number of Cases\")\n",
    "    plt.legend()\n",
    "    plt.xticks(rotation=45)\n",
    "    plt.tight_layout()\n",
    "    plt.savefig(f\"{output_dir}/global_covid_trends.png\", dpi=300)\n",
    "    plt.close()  # Close the figure after saving\n",
    "\n",
    "    # Plot 2: Distribution of Mortality Rate\n",
    "    plt.figure(figsize=(8, 6))\n",
    "    sns.histplot(covid_clean_complete_data['Mortality Rate'], bins=30, kde=True, color='red')\n",
    "    plt.title(\"Distribution of Mortality Rate\")\n",
    "    plt.xlabel(\"Mortality Rate (%)\")\n",
    "    plt.ylabel(\"Frequency\")\n",
    "    plt.tight_layout()\n",
    "    plt.savefig(f\"{output_dir}/mortality_rate_distribution.png\", dpi=300)\n",
    "    plt.close()\n",
    "\n",
    "    # Plot 3: Actual vs Predicted Mortality Rate\n",
    "    plt.figure(figsize=(8, 6))\n",
    "    sns.scatterplot(x=y_test, y=y_pred, alpha=0.6, color='blue')\n",
    "    plt.plot([y_test.min(), y_test.max()], [y_test.min(), y_test.max()], 'r--', linewidth=2)\n",
    "    plt.title(\"Actual vs Predicted Mortality Rate\")\n",
    "    plt.xlabel(\"Actual Mortality Rate\")\n",
    "    plt.ylabel(\"Predicted Mortality Rate\")\n",
    "    plt.tight_layout()\n",
    "    plt.savefig(f\"{output_dir}/actual_vs_predicted_mortality.png\", dpi=300)\n",
    "    plt.close()\n",
    "\n",
    "    # Plot 4: ARIMA Forecast for COVID-19 Cases\n",
    "    plt.figure(figsize=(10, 6))\n",
    "    plt.plot(train, label=\"Training Data\")\n",
    "    plt.plot(test, label=\"Test Data\")\n",
    "    plt.plot(pd.date_range(start=test.index[0], periods=30, freq='D'), forecast, label=\"Forecast\", color='red')\n",
    "    plt.title(\"ARIMA Forecast for COVID-19 Cases\")\n",
    "    plt.xlabel(\"Date\")\n",
    "    plt.ylabel(\"Confirmed Cases\")\n",
    "    plt.legend()\n",
    "    plt.tight_layout()\n",
    "    plt.savefig(f\"{output_dir}/arima_forecast.png\", dpi=300)\n",
    "    plt.close()\n",
    "\n",
    "    # Plot 5: ACF and PACF\n",
    "    plt.figure(figsize=(12, 6))\n",
    "    plt.subplot(121)\n",
    "    plot_acf(confirmed_data['Confirmed'], ax=plt.gca())\n",
    "    plt.subplot(122)\n",
    "    plot_pacf(confirmed_data['Confirmed'], ax=plt.gca())\n",
    "    plt.tight_layout()\n",
    "    plt.savefig(f\"{output_dir}/acf_pacf.png\", dpi=300)\n",
    "    plt.close()\n",
    "\n",
    "    # Plot 6: Impact of Active Cases on Mortality Rate\n",
    "    plt.figure(figsize=(10, 6))\n",
    "    sns.scatterplot(data=covid_clean_complete_data, x='Active', y='Mortality Rate', alpha=0.6)\n",
    "    plt.title(\"Impact of Active Cases on Mortality Rate\")\n",
    "    plt.xlabel(\"Active Cases\")\n",
    "    plt.ylabel(\"Mortality Rate (%)\")\n",
    "    plt.tight_layout()\n",
    "    plt.savefig(f\"{output_dir}/active_cases_mortality.png\", dpi=300)\n",
    "    plt.close()\n",
    "\n",
    "    # Plot 7: Upward Trends\n",
    "    plt.figure(figsize=(10, 6))\n",
    "    sns.barplot(data=upward_trends, x='Growth_Rate', y='Country/Region', palette='viridis')\n",
    "    plt.title(\"Top 10 Countries with Upward Trends\")\n",
    "    plt.xlabel(\"Growth Rate\")\n",
    "    plt.ylabel(\"Country\")\n",
    "    plt.tight_layout()\n",
    "    plt.savefig(f\"{output_dir}/upward_trends.png\", dpi=300)\n",
    "    plt.close()\n",
    "\n",
    "    # Plot 8: Mortality Rates\n",
    "    plt.figure(figsize=(10, 6))\n",
    "    sns.barplot(data=top_mortality, x='Mortality_Rate', y='Country/Region', palette='Reds')\n",
    "    plt.title(\"Top 10 Countries by Mortality Rate\")\n",
    "    plt.xlabel(\"Mortality Rate (%)\")\n",
    "    plt.ylabel(\"Country\")\n",
    "    plt.tight_layout()\n",
    "    plt.savefig(f\"{output_dir}/top_mortality.png\", dpi=300)\n",
    "    plt.close()\n",
    "\n",
    "    # Plot 9: Population vs Total Cases\n",
    "    plt.figure(figsize=(10, 6))\n",
    "    sns.scatterplot(data=dense_population, x='Population', y='Tot Cases/1M pop', size='Deaths/1M pop', hue='Country/Region', sizes=(50, 300))\n",
    "    plt.title(\"Densely Populated Countries and COVID-19 Cases\")\n",
    "    plt.xlabel(\"Population\")\n",
    "    plt.ylabel(\"Tot Cases/1M pop\")\n",
    "    plt.legend(bbox_to_anchor=(1.05, 1), loc='upper left')\n",
    "    plt.tight_layout()\n",
    "    plt.savefig(f\"{output_dir}/population_vs_cases.png\", dpi=300)\n",
    "    plt.close()\n",
    "\n",
    "    print(f\"All visuals saved as PNG files in the '{output_dir}' directory.\")\n",
    "\n",
    "# Call the function to save all plots\n",
    "save_all_visuals()\n"
   ]
  }
 ],
 "metadata": {
  "kernelspec": {
   "display_name": "Python 3 (ipykernel)",
   "language": "python",
   "name": "python3"
  },
  "language_info": {
   "codemirror_mode": {
    "name": "ipython",
    "version": 3
   },
   "file_extension": ".py",
   "mimetype": "text/x-python",
   "name": "python",
   "nbconvert_exporter": "python",
   "pygments_lexer": "ipython3",
   "version": "3.12.4"
  }
 },
 "nbformat": 4,
 "nbformat_minor": 5
}
